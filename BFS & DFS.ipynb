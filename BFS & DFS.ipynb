{
 "cells": [
  {
   "cell_type": "code",
   "execution_count": 1,
   "id": "88cd45d6",
   "metadata": {},
   "outputs": [
    {
     "name": "stdout",
     "output_type": "stream",
     "text": [
      "Following is the Breadth-First Search\n",
      "1 2 3 6 4 7 8 5 "
     ]
    }
   ],
   "source": [
    "graph = {\n",
    "  '1' : ['2','3'],\n",
    "  '2' : ['6'],\n",
    "  '3' : ['4'],\n",
    "  '6' : ['7','8'],\n",
    "  '4' : ['5'],\n",
    "  '7' : [],\n",
    "  '8' : [],\n",
    "  '5' : []\n",
    "}\n",
    "\n",
    "visited = [] # List for visited nodes.\n",
    "queue = []     #Initialize a queue\n",
    "\n",
    "def bfs(visited, graph, node): #function for BFS\n",
    "  visited.append(node)\n",
    "  queue.append(node)\n",
    "\n",
    "  while queue:          # Creating loop to visit each node\n",
    "    m = queue.pop(0) \n",
    "    print (m, end = \" \") \n",
    "\n",
    "    for neighbour in graph[m]:\n",
    "      if neighbour not in visited:\n",
    "        visited.append(neighbour)\n",
    "        queue.append(neighbour)\n",
    "\n",
    "# Driver Code\n",
    "print(\"Following is the Breadth-First Search\")\n",
    "bfs(visited, graph, '1')    # function calling"
   ]
  },
  {
   "cell_type": "code",
   "execution_count": 2,
   "id": "f7c76f56",
   "metadata": {},
   "outputs": [
    {
     "name": "stdout",
     "output_type": "stream",
     "text": [
      "Following is the Depth-First Search\n",
      "1\n",
      "2\n",
      "6\n",
      "7\n",
      "8\n",
      "3\n",
      "4\n",
      "5\n"
     ]
    }
   ],
   "source": [
    "# Using a Python dictionary to act as an adjacency list\n",
    "graph = {\n",
    "  '1' : ['2','3'],\n",
    "  '2' : ['6'],\n",
    "  '3' : ['4'],\n",
    "  '6' : ['7','8'],\n",
    "  '4' : ['5'],\n",
    "  '7' : [],\n",
    "  '8' : [],\n",
    "  '5' : []\n",
    "}\n",
    "\n",
    "visited = set() # Set to keep track of visited nodes of graph.\n",
    "\n",
    "def dfs(visited, graph, node):  #function for dfs \n",
    "    if node not in visited:\n",
    "        print (node)\n",
    "        visited.add(node)\n",
    "        for neighbour in graph[node]:\n",
    "            dfs(visited, graph, neighbour)\n",
    "\n",
    "# Driver Code\n",
    "print(\"Following is the Depth-First Search\")\n",
    "dfs(visited, graph, '1')"
   ]
  },
  {
   "cell_type": "code",
   "execution_count": null,
   "id": "9e3f4d16",
   "metadata": {},
   "outputs": [],
   "source": []
  }
 ],
 "metadata": {
  "kernelspec": {
   "display_name": "Python 3 (ipykernel)",
   "language": "python",
   "name": "python3"
  },
  "language_info": {
   "codemirror_mode": {
    "name": "ipython",
    "version": 3
   },
   "file_extension": ".py",
   "mimetype": "text/x-python",
   "name": "python",
   "nbconvert_exporter": "python",
   "pygments_lexer": "ipython3",
   "version": "3.9.7"
  }
 },
 "nbformat": 4,
 "nbformat_minor": 5
}
